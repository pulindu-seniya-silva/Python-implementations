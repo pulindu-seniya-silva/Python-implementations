{
  "nbformat": 4,
  "nbformat_minor": 0,
  "metadata": {
    "colab": {
      "provenance": [],
      "authorship_tag": "ABX9TyOokEBcOaB2s0mUkEc9olBM",
      "include_colab_link": true
    },
    "kernelspec": {
      "name": "python3",
      "display_name": "Python 3"
    },
    "language_info": {
      "name": "python"
    }
  },
  "cells": [
    {
      "cell_type": "markdown",
      "metadata": {
        "id": "view-in-github",
        "colab_type": "text"
      },
      "source": [
        "<a href=\"https://colab.research.google.com/github/pulindu-seniya-silva/Python-implementations/blob/main/Lab1.ipynb\" target=\"_parent\"><img src=\"https://colab.research.google.com/assets/colab-badge.svg\" alt=\"Open In Colab\"/></a>"
      ]
    },
    {
      "cell_type": "code",
      "execution_count": null,
      "metadata": {
        "id": "VPfwrReC5jEN",
        "colab": {
          "base_uri": "https://localhost:8080/"
        },
        "outputId": "29d80a8b-9930-4899-bf99-26d75be3576a"
      },
      "outputs": [
        {
          "output_type": "stream",
          "name": "stdout",
          "text": [
            "[('India', 'Knohli'), ('England', 'Root'), ('NZ', 'Williaamson'), ('Aus', 'Smith')]\n",
            "{'India': 'Knohli', 'England': 'Root', 'NZ': 'Williaamson', 'Aus': 'Smith'}\n"
          ]
        }
      ],
      "source": [
        "#concatenate two lists index-wise\n",
        "teams = [\"India\", \"England\", \"NZ\", \"Aus\"]\n",
        "captains = [\"Knohli\", \"Root\", \"Williaamson\", \"Smith\"]\n",
        "\n",
        "print(list(zip(teams, captains)))\n",
        "print(dict(zip(teams, captains)))\n",
        "\n"
      ]
    },
    {
      "cell_type": "code",
      "source": [
        "#calculate the total amount\n",
        "books = [\"textbooks\", \"exercise books\", \"story book\", \"drawing books\"]\n",
        "prices = [100, 60, 90, 70]\n",
        "quantities = [3, 2, 1, 4]\n",
        "\n",
        "for book, price, quantity in zip(books, prices, quantities):\n",
        "  total = price * quantity\n",
        "  print(f\"You bought {quantity} {book} for ${total}\")\n"
      ],
      "metadata": {
        "colab": {
          "base_uri": "https://localhost:8080/"
        },
        "id": "WjzB_tEG8FIf",
        "outputId": "dd509180-644e-40ba-ab88-6ae6a75f0a4f"
      },
      "execution_count": null,
      "outputs": [
        {
          "output_type": "stream",
          "name": "stdout",
          "text": [
            "You bought 3 textbooks for $300\n",
            "You bought 2 exercise books for $120\n",
            "You bought 1 story book for $90\n",
            "You bought 4 drawing books for $280\n"
          ]
        }
      ]
    },
    {
      "cell_type": "code",
      "source": [
        "#Add 10 to each item in a list\n",
        "List1 = [2, 4, 6, 8, 10]\n",
        "result = [x + 10 for x in List1]\n",
        "print(result)"
      ],
      "metadata": {
        "colab": {
          "base_uri": "https://localhost:8080/"
        },
        "id": "R870wmM7_h46",
        "outputId": "b4b3df60-05d6-460d-b7dd-fcb3bc244f70"
      },
      "execution_count": null,
      "outputs": [
        {
          "output_type": "stream",
          "name": "stdout",
          "text": [
            "[12, 14, 16, 18, 20]\n"
          ]
        }
      ]
    },
    {
      "cell_type": "code",
      "source": [
        "#iterate two lists one in original and one in reverse order\n",
        "list1 = [10, 20, 30, 40]\n",
        "list2 = [\"Apples\", \"Mangoes\", \"Oranges\", \"Grapes\"]\n",
        "\n",
        "for a, b in zip(list1, reversed(list2)):\n",
        "  print(a, b)"
      ],
      "metadata": {
        "colab": {
          "base_uri": "https://localhost:8080/"
        },
        "id": "9fgobaJYGn1u",
        "outputId": "31070a87-883a-4cfa-f57d-af94b704a397"
      },
      "execution_count": null,
      "outputs": [
        {
          "output_type": "stream",
          "name": "stdout",
          "text": [
            "10 Grapes\n",
            "20 Oranges\n",
            "30 Mangoes\n",
            "40 Apples\n"
          ]
        }
      ]
    },
    {
      "cell_type": "code",
      "source": [
        "#Extend a nested list by adding [\"h\", \"i\", \"j\"] into the correct sublist\n",
        "list1 = [\"a\", \"b\", [\"c\", [\"d\", \"e\", [\"f\", \"g\"], \"k\"], \"l\"], \"m\", \"n\"]\n",
        "sub_list = [\"h\", \"i\", \"j\"]\n",
        "\n",
        "list1[2][1][2].extend(sub_list)\n",
        "print(list1)\n"
      ],
      "metadata": {
        "colab": {
          "base_uri": "https://localhost:8080/"
        },
        "id": "OLv9ItpdJulQ",
        "outputId": "86a1a5cf-c38f-4d80-8b67-17ec292e6128"
      },
      "execution_count": null,
      "outputs": [
        {
          "output_type": "stream",
          "name": "stdout",
          "text": [
            "['a', 'b', ['c', ['d', 'e', ['f', 'g', 'h', 'i', 'j'], 'k'], 'l'], 'm', 'n']\n"
          ]
        }
      ]
    },
    {
      "cell_type": "code",
      "source": [
        "#Remove all occurrences of item 15\n",
        "List3 = [10, 15, 20, 15, 32, 54, 15]\n",
        "result = [x for x in List3\n",
        "              if x != 15]\n",
        "print(result)\n"
      ],
      "metadata": {
        "colab": {
          "base_uri": "https://localhost:8080/"
        },
        "id": "CNgcxc6zhkch",
        "outputId": "7e8057dd-12d7-4355-ec3f-eff987d2d96a"
      },
      "execution_count": null,
      "outputs": [
        {
          "output_type": "stream",
          "name": "stdout",
          "text": [
            "[10, 20, 32, 54]\n"
          ]
        }
      ]
    },
    {
      "cell_type": "code",
      "source": [
        "#Merge two dictionaries\n",
        "dict_1 = {'John': 15, 'Rick': 10, 'Misa': 12}\n",
        "dict_2 = {'Bonnie': 18, 'Rick': 20, 'Matt': 16}\n",
        "dict_1.update(dict_2)\n",
        "print(dict_1)\n"
      ],
      "metadata": {
        "colab": {
          "base_uri": "https://localhost:8080/"
        },
        "id": "mRqjE1zr1okL",
        "outputId": "07fb4969-5273-4612-8b22-936adcad5a7e"
      },
      "execution_count": null,
      "outputs": [
        {
          "output_type": "stream",
          "name": "stdout",
          "text": [
            "{'John': 15, 'Rick': 20, 'Misa': 12, 'Bonnie': 18, 'Matt': 16}\n"
          ]
        }
      ]
    },
    {
      "cell_type": "code",
      "source": [
        "d = {0: 0, 1: 1, 2: 2, 3: 3}\n",
        "d[4] = d.pop(0)\n",
        "print(d)\n"
      ],
      "metadata": {
        "colab": {
          "base_uri": "https://localhost:8080/"
        },
        "id": "1SB0d7ngIACB",
        "outputId": "94945fe2-f154-4547-9f4c-9fbeeae31ce7"
      },
      "execution_count": null,
      "outputs": [
        {
          "output_type": "stream",
          "name": "stdout",
          "text": [
            "{1: 1, 2: 2, 3: 3, 4: 0}\n"
          ]
        }
      ]
    },
    {
      "cell_type": "code",
      "source": [
        "#Convert two lists to a dictionary\n",
        "country = [\"USA\", \"France\", \"India\"]\n",
        "capital = [\"Washington D.C.\", \"Paris\", \"New Delhi\"]\n",
        "\n",
        "dict(zip(country, capital))\n"
      ],
      "metadata": {
        "colab": {
          "base_uri": "https://localhost:8080/"
        },
        "id": "QNIFpe2hKoqv",
        "outputId": "87913a60-e26d-4b7d-d9fc-36060e04fa4a"
      },
      "execution_count": null,
      "outputs": [
        {
          "output_type": "execute_result",
          "data": {
            "text/plain": [
              "{'USA': 'Washington D.C.', 'France': 'Paris', 'India': 'New Delhi'}"
            ]
          },
          "metadata": {},
          "execution_count": 84
        }
      ]
    },
    {
      "cell_type": "code",
      "source": [
        "#Delete a set of keys from a dictionary\n",
        "My_dict = {\n",
        "  \"Fruit\": \"Pear\",\n",
        "  \"Vegetable\": \"Carrot\",\n",
        "  \"Pet\": \"Cat\",\n",
        "  \"Book\": \"Moby dick\",\n",
        "  \"Crystal\": \"Amethyst\"\n",
        "}\n",
        "keysToRemove = [\"Book\", \"Crystal\"]\n",
        "\n",
        "My_dict.pop(\"Book\")\n",
        "My_dict.pop(\"Crystal\")\n",
        "print(My_dict)\n"
      ],
      "metadata": {
        "colab": {
          "base_uri": "https://localhost:8080/"
        },
        "id": "q7JlndgZN8-m",
        "outputId": "8fa42da8-cbab-4b4a-8c19-5f66894ae356"
      },
      "execution_count": null,
      "outputs": [
        {
          "output_type": "stream",
          "name": "stdout",
          "text": [
            "{'Fruit': 'Pear', 'Vegetable': 'Carrot', 'Pet': 'Cat'}\n"
          ]
        }
      ]
    },
    {
      "cell_type": "code",
      "source": [
        "#Extract specific keys from a dictionary\n",
        "sub_dict = {'math': 100, 'chem': 98, 'sci': 100, 'eng': 100}\n",
        "key_to_extract = {'math', 'chem', 'sci'}\n",
        "\n",
        "result = {k: sub_dict[k] for k in key_to_extract}\n",
        "print(result)"
      ],
      "metadata": {
        "colab": {
          "base_uri": "https://localhost:8080/"
        },
        "id": "Y0L-Ch6PQ6lJ",
        "outputId": "7ea53dbc-5916-447d-b813-88dbfc5c6b02"
      },
      "execution_count": null,
      "outputs": [
        {
          "output_type": "stream",
          "name": "stdout",
          "text": [
            "{'math': 100, 'sci': 100, 'chem': 98}\n"
          ]
        }
      ]
    },
    {
      "cell_type": "code",
      "source": [
        "#Display numbers divisible by 5\n",
        "list1 = [12, 15, 32, 42, 55, 75, 122, 132, 150, 180, 200]\n",
        "result = [x for x in list1 if x % 5 == 0]\n",
        "print(result)\n"
      ],
      "metadata": {
        "colab": {
          "base_uri": "https://localhost:8080/"
        },
        "id": "RHusNfDRXV_Z",
        "outputId": "18c4593d-9a2e-4904-d35c-e4c07ca21894"
      },
      "execution_count": null,
      "outputs": [
        {
          "output_type": "stream",
          "name": "stdout",
          "text": [
            "[15, 55, 75, 150, 180, 200]\n"
          ]
        }
      ]
    },
    {
      "cell_type": "code",
      "source": [
        "#Display numbers based on multiple conditions\n",
        "numbers = [12, 75, 150, 180, 145, 525, 50]\n",
        "\n",
        "for i in numbers:\n",
        "  if i > 500:\n",
        "    break\n",
        "  if i > 150:\n",
        "    continue\n",
        "  if i % 5 == 0:\n",
        "    print(i)"
      ],
      "metadata": {
        "colab": {
          "base_uri": "https://localhost:8080/"
        },
        "id": "C4jz8gxXevbG",
        "outputId": "f9e1249b-3120-402a-9c6c-687605cfe646"
      },
      "execution_count": null,
      "outputs": [
        {
          "output_type": "stream",
          "name": "stdout",
          "text": [
            "75\n",
            "150\n",
            "145\n"
          ]
        }
      ]
    },
    {
      "cell_type": "code",
      "source": [
        "#Count uppercase, lowercase, digits, and special characters in a string\n",
        "Substring = \"@W3Resource.Com\"\n",
        "upper = lower = digit = special = 0\n",
        "for i in Substring:\n",
        "  if i.isupper():\n",
        "    upper += 1\n",
        "  elif i.islower():\n",
        "    lower += 1\n",
        "  elif i.isdigit():\n",
        "    digit += 1\n",
        "  else:\n",
        "    special += 1\n",
        "print (upper, lower, digit, special)"
      ],
      "metadata": {
        "colab": {
          "base_uri": "https://localhost:8080/"
        },
        "id": "lgl9yn_fjGn0",
        "outputId": "88d3dacb-428d-4d7b-b56d-064eca9bdf26"
      },
      "execution_count": null,
      "outputs": [
        {
          "output_type": "stream",
          "name": "stdout",
          "text": [
            "3 9 1 2\n"
          ]
        }
      ]
    },
    {
      "cell_type": "code",
      "source": [
        "\n"
      ],
      "metadata": {
        "id": "hGh60d8xk-Uy"
      },
      "execution_count": null,
      "outputs": []
    }
  ]
}