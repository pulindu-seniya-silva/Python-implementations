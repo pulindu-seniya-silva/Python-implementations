{
  "nbformat": 4,
  "nbformat_minor": 0,
  "metadata": {
    "colab": {
      "provenance": [],
      "authorship_tag": "ABX9TyNqPcmiPGX3PilVBs0Y8Nud",
      "include_colab_link": true
    },
    "kernelspec": {
      "name": "python3",
      "display_name": "Python 3"
    },
    "language_info": {
      "name": "python"
    }
  },
  "cells": [
    {
      "cell_type": "markdown",
      "metadata": {
        "id": "view-in-github",
        "colab_type": "text"
      },
      "source": [
        "<a href=\"https://colab.research.google.com/github/pulindu-seniya-silva/Python-implementations/blob/main/lab5.ipynb\" target=\"_parent\"><img src=\"https://colab.research.google.com/assets/colab-badge.svg\" alt=\"Open In Colab\"/></a>"
      ]
    },
    {
      "cell_type": "code",
      "execution_count": 4,
      "metadata": {
        "colab": {
          "base_uri": "https://localhost:8080/"
        },
        "id": "M_-tPbnboox-",
        "outputId": "cd88b826-8d38-4404-f37c-735d378935d3"
      },
      "outputs": [
        {
          "output_type": "stream",
          "name": "stdout",
          "text": [
            "TF-IDF Matrix:\n",
            "[[0.         0.         0.         0.68574252 0.34287126 0.34287126\n",
            "  0.         0.24395573 0.34287126 0.34287126]\n",
            " [0.40740124 0.40740124 0.40740124 0.         0.         0.\n",
            "  0.40740124 0.57973867 0.         0.        ]]\n",
            "\n",
            "Features (Vocabulary):\n",
            "['around' 'children' 'fire' 'for' 'man' 'out' 'sat' 'the' 'walk' 'went']\n"
          ]
        }
      ],
      "source": [
        "#Create a Tf-IDF matrix for the following documents. document1 = \"the man went out for a walk\" document2 = \"The children sat around the fire\"\n",
        "from sklearn.feature_extraction.text import CountVectorizer\n",
        "from sklearn.feature_extraction.text import TfidfVectorizer\n",
        "\n",
        "document1 = 'the man went out for a walk for'\n",
        "document2 = 'the children sat around the fire'\n",
        "documents = [document1, document2]\n",
        "\n",
        "vectorizer = TfidfVectorizer()\n",
        "tfidf_matrix = vectorizer.fit_transform(documents)\n",
        "\n",
        "print(\"TF-IDF Matrix:\")\n",
        "print(tfidf_matrix.toarray())\n",
        "print(\"\\nFeatures (Vocabulary):\")\n",
        "print(vectorizer.get_feature_names_out())"
      ]
    },
    {
      "cell_type": "code",
      "source": [
        "#Find the Cosine Similarity for above documents.\n",
        "from sklearn.metrics.pairwise import cosine_similarity\n",
        "\n",
        "document1 = 'the man went out for a walk'\n",
        "document2 = 'the children sat around the fire'\n",
        "\n",
        "vectorizer = TfidfVectorizer()\n",
        "tfidf_matrix = vectorizer.fit_transform([document1, document2])\n",
        "cosine_sim = cosine_similarity(tfidf_matrix[0], tfidf_matrix[1])\n",
        "print(cosine_sim)"
      ],
      "metadata": {
        "colab": {
          "base_uri": "https://localhost:8080/"
        },
        "id": "eIvhgMyxta9F",
        "outputId": "77904f27-4c94-48d1-dc3c-0db4558c8603"
      },
      "execution_count": 14,
      "outputs": [
        {
          "output_type": "stream",
          "name": "stdout",
          "text": [
            "[[0.17578608]]\n"
          ]
        }
      ]
    }
  ]
}